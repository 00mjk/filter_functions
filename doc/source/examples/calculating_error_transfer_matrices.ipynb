{
 "cells": [
  {
   "cell_type": "markdown",
   "metadata": {},
   "source": [
    "# Calculating error transfer matrices\n",
    "In this example we would like to calculate the error transfer matrices of a two-qubit gateset for singlet-triplet qubits subject to $1/f$-like charge noise that are manipulated via a detuning-controlled exchange interaction. The error transfer matrix is here understood as the Liouville representation of the error propagator $\\tilde{U}(\\tau)$, or more precisely, as the first order correction to the identity process,\n",
    "\n",
    "$$\n",
    "\\mathcal{\\tilde{U}} = \\mathbb{1} - \\mathcal{\\tilde{U}}^{(1)},\n",
    "$$\n",
    "\n",
    "where $\\mathcal{\\tilde{U}}_{ij} = \\mathrm{tr}(C_i\\tilde{U}C_j\\tilde{U}^\\dagger)$ and $\\mathcal{\\tilde{U}}^{(1)}$ is what we refer to as the 'error transfer matrix'. It captures the deviation from the identity up to second order in noise and can be used to extract many useful quantities that describe the (unitary, in this case) channel. For instance, the entanglement infidelity of the pulse is given by\n",
    "\n",
    "$$\n",
    "d^2\\mathcal{I}_\\mathrm{e} = \\mathrm{tr}\\mathcal{\\tilde{U}}^{(1)}\n",
    "$$\n",
    "\n",
    "and the state fidelity (probability that a state is returned to itself) for pure input states by\n",
    "\n",
    "$$\n",
    "p_{j\\rightarrow j} = \\langle\\!\\langle\\rho_j\\rvert\\mathcal{Q}\\mathcal{\\tilde{U}}\\lvert\\rho_j\\rangle\\!\\rangle\n",
    "$$\n",
    "\n",
    "with $\\lvert\\rho_j\\rangle\\!\\rangle = \\sum_{k=0}^{d^2-1}\\mathrm{tr}(C_k\\rho_j)\\lvert k\\rangle\\!\\rangle$ the vectorized density matrix in the basis $\\mathcal{C}$ and $\\mathcal{Q}$ the Liouville representation of the total propagator $Q$.\n",
    "\n",
    "Again we use the optimized gates presented in [Cerfontaine et al. (2019)] and start by loading the data and setting up the control operators $A_i$.\n",
    "\n",
    "[Cerfontaine et al. (2019)]: https://arxiv.org/abs/1901.00851"
   ]
  },
  {
   "cell_type": "code",
   "execution_count": 1,
   "metadata": {},
   "outputs": [],
   "source": [
    "import sys\n",
    "from pathlib import Path\n",
    "\n",
    "import numpy as np\n",
    "from qutip.qip import operations\n",
    "from qutip.visualization import matrix_histogram_complex\n",
    "from scipy import io\n",
    "\n",
    "import filter_functions as ff\n",
    "from filter_functions import util"
   ]
  },
  {
   "cell_type": "code",
   "execution_count": 2,
   "metadata": {},
   "outputs": [],
   "source": [
    "data_path = Path(sys.path[0]).parent.parent.parent / 'examples/data'\n",
    "\n",
    "gates = ['X2ID', 'Y2ID', 'CNOT']\n",
    "struct = {'X2ID': io.loadmat(str(data_path / 'X2ID.mat')),\n",
    "          'Y2ID': io.loadmat(str(data_path / 'Y2ID.mat')),\n",
    "          'CNOT': io.loadmat(str(data_path / 'CNOT.mat'))}\n",
    "eps = {key: np.asarray(struct[key]['eps'], order='C') for key in gates}\n",
    "dt = {key: np.asarray(struct[key]['t'].ravel(), order='C') for key in gates}\n",
    "B = {key: np.asarray(struct[key]['B'].ravel(), order='C') for key in gates}\n",
    "B_avg = {key: struct[key]['BAvg'].ravel() for key in gates}\n",
    "infid_fast = {key: struct[key]['infid_fast'].ravel() for key in gates}\n",
    "# B_avg same for all\n",
    "B_avg = B_avg['X2ID']\n",
    "T = {key: val.sum() for key, val in dt.items()}\n",
    "\n",
    "J = {key: np.exp(eps[key]) for key in gates}\n",
    "n_dt = {key: len(dt[key]) for key in gates}\n",
    "\n",
    "d = 16\n",
    "H = np.empty((6, d, d), dtype=complex)\n",
    "\n",
    "Id, Px, Py, Pz = util.paulis\n",
    "# Exchange Hamiltonians\n",
    "H[0] = 1/4*sum(util.tensor(P, P, Id, Id) for P in (Px, Py, Pz))\n",
    "H[1] = 1/4*sum(util.tensor(Id, P, P, Id) for P in (Px, Py, Pz))\n",
    "H[2] = 1/4*sum(util.tensor(Id, Id, P, P) for P in (Px, Py, Pz))\n",
    "# Zeeman Hamiltonians\n",
    "H[3] = 1/8*(util.tensor(Pz, Id, Id, Id)*(-3) +\n",
    "            util.tensor(Id, Pz, Id, Id) +\n",
    "            util.tensor(Id, Id, Pz, Id) +\n",
    "            util.tensor(Id, Id, Id, Pz))\n",
    "H[4] = 1/4*(util.tensor(Pz, Id, Id, Id)*(-1) +\n",
    "            util.tensor(Id, Pz, Id, Id)*(-1) +\n",
    "            util.tensor(Id, Id, Pz, Id) +\n",
    "            util.tensor(Id, Id, Id, Pz))\n",
    "H[5] = 1/8*(util.tensor(Pz, Id, Id, Id)*(-1) +\n",
    "            util.tensor(Id, Pz, Id, Id)*(-1) +\n",
    "            util.tensor(Id, Id, Pz, Id)*(-1) +\n",
    "            util.tensor(Id, Id, Id, Pz)*3)\n",
    "\n",
    "# Technically there would also be H_0 (the mean magnetic field), but on the\n",
    "# m_s = 0 subspace it is zero."
   ]
  },
  {
   "cell_type": "markdown",
   "metadata": {},
   "source": [
    "## Defining a custom basis\n",
    "Because we are interested in the fidelity of the two-qubit gates that live on the $4\\times 4$ subspace of the complete $16$-dimensional Hilbert space, we single out the $6\\times 6$ subspace with magnetic spin quantum number $m_s = 0$ in which the qubits are encoded. We have to include the leakage levels $\\bigl\\lbrace\\lvert\\downarrow\\downarrow\\uparrow\\uparrow\\rangle, \\lvert\\uparrow\\uparrow\\downarrow\\downarrow\\rangle\\bigr\\rbrace$ as they are accessible via the intermediate exchange interaction $J(\\epsilon_{23})$ during the gate sequence."
   ]
  },
  {
   "cell_type": "code",
   "execution_count": 3,
   "metadata": {},
   "outputs": [],
   "source": [
    "opers = list(H)\n",
    "\n",
    "# Reduce to 6x6 subspace\n",
    "zerospin_subspace_inds = ((3, 5, 6, 9, 10, 12), (3, 5, 6, 9, 10, 12))\n",
    "d_zerospin_subspace = 6\n",
    "opers = [H[np.ix_(*zerospin_subspace_inds)] for H in H]\n",
    "\n",
    "# Subtract identity to make Hamiltonian traceless (always allowed since we are\n",
    "# not interested in absolute energies)\n",
    "opers = [oper - np.trace(oper)/d_zerospin_subspace*np.eye(d_zerospin_subspace)\n",
    "         for oper in opers]\n",
    "\n",
    "# The coefficients are the exchange couplings and B-field gradients\n",
    "c_coeffs = {key: [J[key][0],\n",
    "                  J[key][1],\n",
    "                  J[key][2],\n",
    "                  B[key][0]*np.ones(n_dt[key]),\n",
    "                  B[key][1]*np.ones(n_dt[key]),\n",
    "                  B[key][2]*np.ones(n_dt[key])] for key in gates}\n",
    "# We include the exponential dependence of J on epsilon by a first-order\n",
    "# derivative (just J back) as noise sensitivity.\n",
    "n_coeffs = {key: [J[key][0],\n",
    "                  J[key][1],\n",
    "                  J[key][2],\n",
    "                  np.ones(n_dt[key]),\n",
    "                  np.ones(n_dt[key]),\n",
    "                  np.ones(n_dt[key])] for key in gates}\n",
    "\n",
    "identifiers = ['J_12', 'J_23', 'J_34', 'B_12', 'B_23', 'B_34']\n",
    "\n",
    "H_c = {key: list(zip(opers, val, identifiers))\n",
    "       for key, val in c_coeffs.items()}\n",
    "H_n = {key: list(zip(opers, val, identifiers))\n",
    "       for key, val in n_coeffs.items()}"
   ]
  },
  {
   "cell_type": "markdown",
   "metadata": {},
   "source": [
    "In order to be able to distinguish the qubit subspace from the leakage subspace, we define a basis that exclusively has elements that only live on either by padding a two-qubit Pauli basis with zeros on the leakage subspace and letting the ``Basis`` constructor fill up the basis so that it is orthonormal and complete on the entire space."
   ]
  },
  {
   "cell_type": "code",
   "execution_count": 4,
   "metadata": {},
   "outputs": [
    {
     "name": "stdout",
     "output_type": "stream",
     "text": [
      "Basis orthonormal: True\n",
      "Basis complete: True\n",
      "Padded IX:\n",
      " [[0.  0.  0.  0.  0.  0. ]\n",
      " [0.  0.  0.5 0.  0.  0. ]\n",
      " [0.  0.5 0.  0.  0.  0. ]\n",
      " [0.  0.  0.  0.  0.5 0. ]\n",
      " [0.  0.  0.  0.5 0.  0. ]\n",
      " [0.  0.  0.  0.  0.  0. ]]\n"
     ]
    }
   ],
   "source": [
    "# Leakage levels are at indices 0 and 5 of the 6x6 Hamiltonian\n",
    "qubit_subspace_inds = ((1, 2, 3, 4), (1, 2, 3, 4))\n",
    "\n",
    "basis = ff.Basis([np.pad(b, 1, 'constant') for b in ff.Basis.pauli(2)])\n",
    "\n",
    "print('Basis orthonormal:', basis.isorthonorm)\n",
    "print('Basis complete:', basis.iscomplete)\n",
    "# Print one element as an example\n",
    "print('Padded IX:\\n', basis[1].real)"
   ]
  },
  {
   "cell_type": "markdown",
   "metadata": {},
   "source": [
    "Now we can initialize the `PulseSequence` instances and diagonalize them to verify they give rise to the correct gates:"
   ]
  },
  {
   "cell_type": "code",
   "execution_count": 5,
   "metadata": {},
   "outputs": [],
   "source": [
    "# Initialize the PulseSequences\n",
    "pulses = {\n",
    "    gate: ff.PulseSequence(H_c[gate], H_n[gate], dt[gate], basis=basis)\n",
    "    for gate in gates\n",
    "}\n",
    "\n",
    "# Target gates\n",
    "U_t = {\n",
    "    'X2ID': util.tensor((Id - 1j*Px)/np.sqrt(2), Id),    # sqrt X\n",
    "    'Y2ID': util.tensor((Id - 1j*Py)/np.sqrt(2), Id),    # sqrt Y\n",
    "    'CNOT': operations.cnot()\n",
    "}"
   ]
  },
  {
   "cell_type": "code",
   "execution_count": 6,
   "metadata": {},
   "outputs": [
    {
     "name": "stdout",
     "output_type": "stream",
     "text": [
      "Correct action of the gates:\n",
      "----------------------------\n",
      "X2ID\tTrue\n",
      "Y2ID\tTrue\n",
      "CNOT\tTrue\n"
     ]
    },
    {
     "data": {
      "image/png": "[encoded data removed]",
      "text/plain": [
       "<Figure size 432x288 with 2 Axes>"
      ]
     },
     "metadata": {
      "needs_background": "light"
     },
     "output_type": "display_data"
    },
    {
     "data": {
      "image/png": "[encoded data removed]",
      "text/plain": [
       "<Figure size 432x288 with 2 Axes>"
      ]
     },
     "metadata": {
      "needs_background": "light"
     },
     "output_type": "display_data"
    },
    {
     "data": {
      "image/png": "[encoded data removed]",
      "text/plain": [
       "<Figure size 432x288 with 2 Axes>"
      ]
     },
     "metadata": {
      "needs_background": "light"
     },
     "output_type": "display_data"
    }
   ],
   "source": [
    "print('Correct action of the gates:')\n",
    "print('----------------------------')\n",
    "for key, pulse in pulses.items():\n",
    "    pulse.diagonalize()\n",
    "    # Reduce to qubit subspace\n",
    "    U = pulse.total_propagator[np.ix_(*qubit_subspace_inds)]\n",
    "    # Plot the propagator\n",
    "    matrix_histogram_complex(U)\n",
    "    # Check for equality with the target unitary up to global phase\n",
    "    print(key, util.oper_equiv(U_t[key], U, eps=1e-9)[0], sep='\\t')"
   ]
  },
  {
   "cell_type": "markdown",
   "metadata": {},
   "source": [
    "## Noise power spectral density\n",
    "Now that we have verified that our pulses do what they are supposed to, we can turn to calculating the error transfer matrix given a noise spectrum. As a quick reminder, the noise power spectral density $S_\\alpha(\\omega)$ is defined as the Fourier transform of the autocorrelation function of the noise variable $b_\\alpha(t)$. For *wide-sense stationary* noise the autocorrelation only depends on the time difference and we have\n",
    "\n",
    "$$\n",
    "    \\langle b_\\alpha(t_1)b_\\alpha(t_2)\\rangle = \\int_{-\\infty}^\\infty\\frac{\\mathrm{d}\\omega}{2\\pi}S_\\alpha(\\omega)e^{i\\omega(t_2 - t_1)}\n",
    "$$\n",
    "\n",
    "where $S_\\alpha(\\omega)$ is the two-sided power spectral density for noise source $\\alpha$. We consider here $1/f$-like noise with a one-sided spectrum of\n",
    "\n",
    "$$\n",
    "    S_\\epsilon(f) = A f^{-0.7}, \\quad S_\\epsilon(f=1\\,\\text{MHz}) = 4\\times 10^{-20}\\,\\text{V}^2/\\text{Hz}\n",
    "$$\n",
    "\n",
    "as reported by [Dial et al. (2013)].\n",
    "\n",
    "[Dial et al. (2013)]: https://doi.org/10.1103/PhysRevLett.110.146804"
   ]
  },
  {
   "cell_type": "code",
   "execution_count": 7,
   "metadata": {},
   "outputs": [],
   "source": [
    "# Voltages are in units of eps0 and energies in units of inverse nanoseconds\n",
    "# (see Cerfontaine et al. (2019))\n",
    "eps0 = 2.7241e-4\n",
    "alpha = 0.7\n",
    "# S(f) = A f^{-\\alpha}\n",
    "# At f = 1 MHz = 1e-3 GHz, S = S_0 = 4e-20 V^2/Hz = 4e-11/eps0^2 1/GHz\n",
    "# Correspondingly, S(\\omega) = A \\omega^{-\\alpha} such that at\n",
    "# \\omega = 2\\pi 10^{-3} GHz, S_0 = 4e-11/eps0^2 1/GHz\n",
    "S_0 = 4e-11/eps0**2\n",
    "A = S_0*(2*np.pi*1e-3)**alpha"
   ]
  },
  {
   "cell_type": "markdown",
   "metadata": {},
   "source": [
    "## Error transfer matrix\n",
    "We now calculate the first order correction to the error transfer matrix, $\\mathcal{\\tilde{U}}^{(1)} = 1 - \\mathrm{tr}(C_i\\tilde{U}C_j\\tilde{U}^\\dagger)$ due to fast noise for each gate by numerically integrating over the spectrum times the filter function using $\\omega_\\text{IR}=1/T$ and $\\omega_\\text{UV}=100\\,\\text{GHz}$ as infrared and ultraviolet cutoffs, respectively, and compare to the Monte Carlo results presented by Cerfontaine et al. (2019).\n",
    "\n",
    "### Performance considerations\n",
    "For the computation of the error transfer matrix it is beneficial for the basis used to be sparse since the elements of the matrix are sums of terms proportional to traces of four basis elements of the form $\\mathrm{tr}(C_i C_j C_k C_l)$. These traces are inherently mostly zero since the basis elements form an orthonormal set. If the elements themselves are sparse, the entire calculation can be performed quite efficiently. The Generalized Gell-Mann bases are sparse bases as most of their elements only have two non-zero entries. The Pauli bases have filling factor $1/2$ on the other hand and thus take longer to compute.\n",
    "\n",
    "Since the traces are cached, this only applies for the first time the error transfer matrix is computed.\n",
    "\n",
    "### Calculation using `filter_functions`\n",
    "The calculation is implemented in the `ff.error_transfer_matrix()` function, which takes a `PulseSequence` instance, a noise spectrum and a list of frequencies as arguments. Optionally, we may also pass a list of identifiers corresponding to the noise operators whose contributions we are interested in. In our case we use the exchange terms affected by charge noise. The function will return an array with the separate noise operator contributions on the first axis.\n",
    "\n",
    "Since the `filter_functions` package assumes two-sided spectra, we need to rescale the above spectrum by a factor of two accordingly. This can be done using `filter_functions.util.symmetrize_spectrum()`. Visualization of the error transfer matrices is implemented by ``filter_functions.plotting.plot_error_transfer_matrix()``."
   ]
  },
  {
   "cell_type": "code",
   "execution_count": 8,
   "metadata": {},
   "outputs": [
    {
     "data": {
      "application/vnd.jupyter.widget-view+json": {
       "model_id": "83c5b281bb654f1ab7d5bd67fff5090a",
       "version_major": 2,
       "version_minor": 0
      },
      "text/plain": [
       "HBox(children=(FloatProgress(value=0.0, description='Calculating control matrix', style=ProgressStyle(descript…"
      ]
     },
     "metadata": {},
     "output_type": "display_data"
    },
    {
     "name": "stdout",
     "output_type": "stream",
     "text": [
      "\n"
     ]
    },
    {
     "name": "stderr",
     "output_type": "stream",
     "text": [
      "c:\\users\\tobias\\code\\filter_functions\\filter_functions\\plotting.py:786: MatplotlibDeprecationWarning: default base may change from np.e to 10.  To suppress this warning specify the base keyword argument.\n",
      "  norm = colors.SymLogNorm(linthresh=linthresh, vmin=Umin, vmax=Umax)\n"
     ]
    },
    {
     "data": {
      "application/vnd.jupyter.widget-view+json": {
       "model_id": "939a2acfefd24a8997295a0cf254e026",
       "version_major": 2,
       "version_minor": 0
      },
      "text/plain": [
       "HBox(children=(FloatProgress(value=0.0, description='Calculating control matrix', style=ProgressStyle(descript…"
      ]
     },
     "metadata": {},
     "output_type": "display_data"
    },
    {
     "name": "stdout",
     "output_type": "stream",
     "text": [
      "\n"
     ]
    },
    {
     "data": {
      "application/vnd.jupyter.widget-view+json": {
       "model_id": "3abb0182cfaf4439ab8fbb6c5040c695",
       "version_major": 2,
       "version_minor": 0
      },
      "text/plain": [
       "HBox(children=(FloatProgress(value=0.0, description='Calculating control matrix', max=250.0, style=ProgressSty…"
      ]
     },
     "metadata": {},
     "output_type": "display_data"
    },
    {
     "name": "stdout",
     "output_type": "stream",
     "text": [
      "\n"
     ]
    },
    {
     "data": {
      "image/png": "[encoded data removed]",
      "text/plain": [
       "<Figure size 792x1080 with 14 Axes>"
      ]
     },
     "metadata": {
      "needs_background": "light"
     },
     "output_type": "display_data"
    }
   ],
   "source": [
    "from itertools import product\n",
    "import matplotlib.pyplot as plt\n",
    "from filter_functions import plotting\n",
    "fig = plt.figure(figsize=(11, 15))\n",
    "\n",
    "# First basis 16 elements are the Pauli basis on the qubit subspace\n",
    "basis_labels = [''.join(tup) for tup in\n",
    "                product(['I', 'X', 'Y', 'Z'], repeat=2)]\n",
    "# Remaining basis elements were automatically generated and live only on \n",
    "# leakage subspace\n",
    "basis_labels.extend([f'$C_{{{i}}}$' for i in range(16, 36)])\n",
    "\n",
    "transfer_matrices = {}\n",
    "for i, (key, pulse) in enumerate(pulses.items(), 1):\n",
    "    omega_positive = np.geomspace(1/T[key], 1e2, 400)\n",
    "    S_onesided = A/omega_positive**alpha\n",
    "    S_twosided, omega = ff.util.symmetrize_spectrum(S_onesided, omega_positive)\n",
    "\n",
    "    if key == 'CNOT':\n",
    "        identifiers = ['J_12', 'J_23', 'J_34']\n",
    "    else:\n",
    "        # For single qubit pulses intermediate exchange is turned off\n",
    "        identifiers = ['J_12', 'J_34']\n",
    "        \n",
    "    transfer_matrices[key] = ff.error_transfer_matrix(\n",
    "        pulse, S_twosided, omega, n_oper_identifiers=identifiers,\n",
    "        show_progressbar=True\n",
    "    )\n",
    "        \n",
    "    # We can call plot_transfer matrix with the same arguments as\n",
    "    # error_transfer_matrix in which case the transfer matrix is calculated on\n",
    "    # the fly, or pass a pre-computed transfer matrix to the function\n",
    "    fig, grid = plotting.plot_error_transfer_matrix(\n",
    "        error_transfer_matrix=transfer_matrices[key],\n",
    "        n_oper_identifiers=identifiers, basis_labels=basis_labels,\n",
    "        grid_kw=dict(rect=10*31+i), figsize=(11, 4), fig=fig, cbar_label=key, \n",
    "        colorscale='log'\n",
    "    )"
   ]
  },
  {
   "cell_type": "markdown",
   "metadata": {},
   "source": [
    "As we can see, for the single-qubit gates the computational and leakage subspaces are sufficiently decoupled and the structure of the error transfer matrix reveals a nice symmetry of noise processes on the two qubits. For the CNOT, this symmetry is not as pronounced and the error transfer matrix for the intermediate exchange $J_{23}$ mixes the computational and leakage subspaces to a small degree."
   ]
  },
  {
   "cell_type": "markdown",
   "metadata": {},
   "source": [
    "## Deriving quantities\n",
    "With the error transfer matrix calculated, we can now derive different quantities. Here we take a look at the state fidelity of the computational basis states for the CNOT gate and the entanglement fidelities of the gates.\n",
    "\n",
    "### State fidelity\n",
    "The state fidelity is given by (see above)\n",
    "\n",
    "$$\n",
    "p_{j\\rightarrow j} = \\langle\\!\\langle\\rho_j\\rvert\\mathcal{Q}\\mathcal{\\tilde{U}}\\lvert\\rho_j\\rangle\\!\\rangle.\n",
    "$$\n",
    "\n",
    "We can calculate the vectorized density matrices $\\lvert\\rho_j\\rangle\\!\\rangle$ using `ff.basis.expand()` and the Liouville representation of the total propagator of the pulse using `ff.liouville_representation()`."
   ]
  },
  {
   "cell_type": "code",
   "execution_count": 9,
   "metadata": {},
   "outputs": [
    {
     "name": "stdout",
     "output_type": "stream",
     "text": [
      "p(00->00) = 9.9991e-01\n",
      "p(01->01) = 9.9992e-01\n",
      "p(10->10) = 2.3946e-05\n",
      "p(11->11) = 2.3946e-05\n"
     ]
    }
   ],
   "source": [
    "pulse = pulses['CNOT']\n",
    "basis = pulse.basis\n",
    "# Also exists as pulse.total_propagator_liouville\n",
    "total_prop_liouville = ff.liouville_representation(pulse.total_propagator, basis)\n",
    "# Sum up the individual noise operator contributions for simplicity\n",
    "U_tilde = np.eye(36) - transfer_matrices['CNOT'].sum(axis=0)\n",
    "ket_00, ket_01, ket_10, ket_11 = np.zeros((4, 6, 1))\n",
    "ket_00[1] = 1\n",
    "ket_01[2] = 1\n",
    "ket_10[3] = 1\n",
    "ket_11[4] = 1\n",
    "rhoket_00 = ff.basis.expand(np.outer(ket_00, ket_00), basis).real\n",
    "rhoket_01 = ff.basis.expand(np.outer(ket_01, ket_01), basis).real\n",
    "rhoket_10 = ff.basis.expand(np.outer(ket_10, ket_10), basis).real\n",
    "rhoket_11 = ff.basis.expand(np.outer(ket_11, ket_11), basis).real\n",
    "rhokets = (rhoket_00, rhoket_01, rhoket_10, rhoket_11)\n",
    "labels = ('00', '01', '10', '11')\n",
    "\n",
    "for label, rhoket in zip(labels, rhokets):\n",
    "    F = rhoket.T @ total_prop_liouville @ U_tilde @ rhoket\n",
    "    print(f'p({label}->{label}) = {F.real:.4e}')"
   ]
  },
  {
   "cell_type": "markdown",
   "metadata": {},
   "source": [
    "The probabilities are not exactly one and zero but differ from the target outcome by $\\sim 10^{-5}$ due to the influence of the noise."
   ]
  },
  {
   "cell_type": "markdown",
   "metadata": {},
   "source": [
    "### Entanglement fidelity <a id='fidelity'></a>\n",
    "The entanglement fidelity is given by (see above)\n",
    "\n",
    "$$\n",
    "d^2\\mathcal{I}_\\mathrm{e} = \\mathrm{tr}\\mathcal{\\tilde{U}}^{(1)}.\n",
    "$$\n",
    "\n",
    "We are only interested in the dynamics on the qubit subspace and thus do not care about contributions from basis elements on the leakage subspace, so that we only trace over the first 16 elements of the error transfer matrix. We will compare the results to the Monte Carlo results for fast noise from the reference.\n",
    "\n",
    "Because the fidelity is an often-employed figure of merit, its calculation is also implemented in a separate function, `ff.infidelity()`, that is much faster than deriving the fidelity from the error transfer matrix. Its interface is very similiar to that of `ff.error_transfer_matrix()` and is thus not discussed here. Only note that some subtleties apply if calculating the fidelity in the presence of leakage levels."
   ]
  },
  {
   "cell_type": "code",
   "execution_count": 10,
   "metadata": {},
   "outputs": [
    {
     "name": "stdout",
     "output_type": "stream",
     "text": [
      "Gate\tTransfer Matrix\tMonte Carlo\tRelative deviation\n",
      "----------------------------------------------------------\n",
      "X2ID\t7.24e-05\t7.17e-05\t9.6e-03\n",
      "Y2ID\t7.09e-05\t7.03e-05\t8.4e-03\n",
      "CNOT\t7.97e-05\t7.89e-05\t9.5e-03\n"
     ]
    }
   ],
   "source": [
    "print('Gate', 'Transfer Matrix', 'Monte Carlo', 'Relative deviation', sep='\\t')\n",
    "print('----------------------------------------------------------')\n",
    "for key, pulse in pulses.items():\n",
    "    infidelity = np.einsum('...ii', transfer_matrices[key][:, :16, :16])/4**2\n",
    "    rel_div = (infidelity.sum() - infid_fast[key][1])/infid_fast[key][1]\n",
    "    print(key,\n",
    "          f'{infidelity.sum().real:.2e}',\n",
    "          f'{infid_fast[key][1]:.2e}',\n",
    "          f'{rel_div.real:.1e}',\n",
    "          sep='\\t')"
   ]
  },
  {
   "cell_type": "markdown",
   "metadata": {},
   "source": [
    "## Convergence of the frequency integral\n",
    "Since we are integrating numerically, we should also perform a convergence test in order to see if the frequency resolution is large enough. This is also implemented in `ff.infidelity()`. In this case, the function arguments `S` and `omega` take on a different meaning; `S` should be a `Callable` function handle for computing the spectrum from a list of frequencies, and `omega` should be a dictionary with entries defining the boundary conditions for the convergence test, e.g. the minimum and maximum number of frequency points $n_\\omega$ for the convergence test. For brevity, we only show the convergence for the CNOT."
   ]
  },
  {
   "cell_type": "code",
   "execution_count": 11,
   "metadata": {},
   "outputs": [
    {
     "name": "stdout",
     "output_type": "stream",
     "text": [
      "(11, 6)\n"
     ]
    },
    {
     "data": {
      "text/plain": [
       "Text(0.5, 0.98, 'CNOT convergence')"
      ]
     },
     "execution_count": 11,
     "metadata": {},
     "output_type": "execute_result"
    },
    {
     "data": {
      "image/png": "[encoded data removed]",
      "text/plain": [
       "<Figure size 432x288 with 2 Axes>"
      ]
     },
     "metadata": {
      "needs_background": "light"
     },
     "output_type": "display_data"
    }
   ],
   "source": [
    "def S(omega): return A/omega**alpha\n",
    "\n",
    "# Define the boundary conditions (all of these values also have sensible\n",
    "# defaults)\n",
    "omega = {\n",
    "    'omega_IR': 1e-2/T['CNOT'],\n",
    "    'omega_IV': 100,\n",
    "    'spacing': 'log',\n",
    "    'n_min': 100,\n",
    "    'n_max': 500,\n",
    "    'n_points': 10\n",
    "}\n",
    "\n",
    "n_omega, infids = ff.infidelity(pulses['CNOT'], S, omega, test_convergence=True)\n",
    "print(infids.shape)\n",
    "fig, ax = plotting.plot_infidelity_convergence(n_omega, infids.sum(axis=1))\n",
    "fig.suptitle('CNOT convergence')"
   ]
  },
  {
   "cell_type": "markdown",
   "metadata": {},
   "source": [
    "As we can see, the integral converges for around $n_\\omega = 300$ already. Note that the value of the infidelity here is not consistent with the one computed in [the section above](#fidelity) since `ff.infidelity()` computes the infidelity of the pulse on the complete Hilbert space, not only the computational subspace. Concretely, `ff.infidelity()` computes `transfer_matrices['CNOT'].trace()/6**2`."
   ]
  }
 ],
 "metadata": {
  "kernelspec": {
   "display_name": "Python 3",
   "language": "python",
   "name": "python3"
  },
  "language_info": {
   "codemirror_mode": {
    "name": "ipython",
    "version": 3
   },
   "file_extension": ".py",
   "mimetype": "text/x-python",
   "name": "python",
   "nbconvert_exporter": "python",
   "pygments_lexer": "ipython3",
   "version": "3.8.3"
  },
  "widgets": {
   "application/vnd.jupyter.widget-state+json": {
    "state": {
     "010bf16f80ef4c06b108641afeb833b9": {
      "model_module": "@jupyter-widgets/base",
      "model_module_version": "1.2.0",
      "model_name": "LayoutModel",
      "state": {}
     },
     "077dbd79885945fba8d4c40032f33716": {
      "model_module": "@jupyter-widgets/controls",
      "model_module_version": "1.5.0",
      "model_name": "HTMLModel",
      "state": {
       "layout": "IPY_MODEL_c404509b99854e19b01077cc6eb55c78",
       "style": "IPY_MODEL_c9f31fde670e443ea67a1208be9b9680",
       "value": " 100/100 [00:00&lt;00:00, 144.75it/s]"
      }
     },
     "08844ad1604c4046b9b1117e446d4e6e": {
      "model_module": "@jupyter-widgets/controls",
      "model_module_version": "1.5.0",
      "model_name": "HTMLModel",
      "state": {
       "layout": "IPY_MODEL_f197633c0b654313aece53cd359262b5",
       "style": "IPY_MODEL_b8690d6038bd43348b7b85dfb38213d8",
       "value": " 100/100 [00:02&lt;00:00, 47.34it/s]"
      }
     },
     "0a57c2cef4454d2b83ba1534c9d0eaf3": {
      "model_module": "@jupyter-widgets/controls",
      "model_module_version": "1.5.0",
      "model_name": "DescriptionStyleModel",
      "state": {
       "description_width": ""
      }
     },
     "0dc28bbab3114ad78a4593090933e8cd": {
      "model_module": "@jupyter-widgets/controls",
      "model_module_version": "1.5.0",
      "model_name": "DescriptionStyleModel",
      "state": {
       "description_width": ""
      }
     },
     "0e67c71bbfeb47f4850e4ec1e3ac32a2": {
      "model_module": "@jupyter-widgets/controls",
      "model_module_version": "1.5.0",
      "model_name": "FloatProgressModel",
      "state": {
       "bar_style": "success",
       "description": "Calculating control matrix: 100%",
       "layout": "IPY_MODEL_718cc9c1f9dc4974879ac5e0303925e0",
       "max": 250,
       "style": "IPY_MODEL_6a67f2daf9c04955a4af2a5906b0cfc2",
       "value": 250
      }
     },
     "0ee64a2c9cad44d7866a2e7527126447": {
      "model_module": "@jupyter-widgets/controls",
      "model_module_version": "1.5.0",
      "model_name": "ProgressStyleModel",
      "state": {
       "description_width": "initial"
      }
     },
     "141d02f5d71646d0bc9ab3c79ed9f238": {
      "model_module": "@jupyter-widgets/controls",
      "model_module_version": "1.5.0",
      "model_name": "ProgressStyleModel",
      "state": {
       "description_width": "initial"
      }
     },
     "147a75f63b9f41998ec3e61a67b19f58": {
      "model_module": "@jupyter-widgets/base",
      "model_module_version": "1.2.0",
      "model_name": "LayoutModel",
      "state": {}
     },
     "14f8b3e3a00d4cc88fbb9f4efade992d": {
      "model_module": "@jupyter-widgets/controls",
      "model_module_version": "1.5.0",
      "model_name": "ProgressStyleModel",
      "state": {
       "description_width": "initial"
      }
     },
     "16ec94eb78a04ddf82d79163a7b8ff30": {
      "model_module": "@jupyter-widgets/base",
      "model_module_version": "1.2.0",
      "model_name": "LayoutModel",
      "state": {}
     },
     "19f910b9430e4c728c7855cf69db7dbe": {
      "model_module": "@jupyter-widgets/controls",
      "model_module_version": "1.5.0",
      "model_name": "HBoxModel",
      "state": {
       "children": [
        "IPY_MODEL_dec28044fe5241f3a0a87373619528bd",
        "IPY_MODEL_c7548c2dca9b423eb78ec894beea527d"
       ],
       "layout": "IPY_MODEL_4bdc9956a40a432392e727f37c5755fc"
      }
     },
     "1bd42690bd5f4e3096231fc11e00986e": {
      "model_module": "@jupyter-widgets/base",
      "model_module_version": "1.2.0",
      "model_name": "LayoutModel",
      "state": {}
     },
     "214540b4e5eb4febaaac44c3f5f08434": {
      "model_module": "@jupyter-widgets/base",
      "model_module_version": "1.2.0",
      "model_name": "LayoutModel",
      "state": {}
     },
     "2340441232884d62b9b108c54979dba7": {
      "model_module": "@jupyter-widgets/controls",
      "model_module_version": "1.5.0",
      "model_name": "HBoxModel",
      "state": {
       "children": [
        "IPY_MODEL_f43aaee98b3543039922495cd53d0c33",
        "IPY_MODEL_8531c2da7d964193bd4bd35a3d76c63d"
       ],
       "layout": "IPY_MODEL_2b77040fd17d4f78ab60f2d5863ea5dc"
      }
     },
     "24c0e764a39542c9bfaf03f730b37c7d": {
      "model_module": "@jupyter-widgets/controls",
      "model_module_version": "1.5.0",
      "model_name": "ProgressStyleModel",
      "state": {
       "description_width": "initial"
      }
     },
     "24e9dc04c421420bb6086b659ff4bab6": {
      "model_module": "@jupyter-widgets/base",
      "model_module_version": "1.2.0",
      "model_name": "LayoutModel",
      "state": {}
     },
     "270df0005a05473097bc9ef302547bd7": {
      "model_module": "@jupyter-widgets/controls",
      "model_module_version": "1.5.0",
      "model_name": "FloatProgressModel",
      "state": {
       "bar_style": "success",
       "description": "Calculating control matrix: 100%",
       "layout": "IPY_MODEL_cdd02f6ff3694c9a81b8d9769a48a4cd",
       "max": 250,
       "style": "IPY_MODEL_daf5f758aa5c45129dbaa8f94551bbb4",
       "value": 250
      }
     },
     "287bf97dbd7545cc82f6789218ac7923": {
      "model_module": "@jupyter-widgets/base",
      "model_module_version": "1.2.0",
      "model_name": "LayoutModel",
      "state": {}
     },
     "28b0d64850264b7895df2715036bd896": {
      "model_module": "@jupyter-widgets/controls",
      "model_module_version": "1.5.0",
      "model_name": "DescriptionStyleModel",
      "state": {
       "description_width": ""
      }
     },
     "29e2773ab7264effacaf653e45573088": {
      "model_module": "@jupyter-widgets/controls",
      "model_module_version": "1.5.0",
      "model_name": "ProgressStyleModel",
      "state": {
       "description_width": "initial"
      }
     },
     "2a443ad8200d4632a8522b9d26cd4942": {
      "model_module": "@jupyter-widgets/base",
      "model_module_version": "1.2.0",
      "model_name": "LayoutModel",
      "state": {}
     },
     "2b77040fd17d4f78ab60f2d5863ea5dc": {
      "model_module": "@jupyter-widgets/base",
      "model_module_version": "1.2.0",
      "model_name": "LayoutModel",
      "state": {}
     },
     "3abb0182cfaf4439ab8fbb6c5040c695": {
      "model_module": "@jupyter-widgets/controls",
      "model_module_version": "1.5.0",
      "model_name": "HBoxModel",
      "state": {
       "children": [
        "IPY_MODEL_0e67c71bbfeb47f4850e4ec1e3ac32a2",
        "IPY_MODEL_89033b0b5ee7470db5b45c5accd98310"
       ],
       "layout": "IPY_MODEL_c85c161438224a0ba0a2adddc0f57b79"
      }
     },
     "3b4743e725d64383b1646f3f5f215142": {
      "model_module": "@jupyter-widgets/base",
      "model_module_version": "1.2.0",
      "model_name": "LayoutModel",
      "state": {}
     },
     "3b575efb440c4e6a9979382501698ae7": {
      "model_module": "@jupyter-widgets/controls",
      "model_module_version": "1.5.0",
      "model_name": "HBoxModel",
      "state": {
       "children": [
        "IPY_MODEL_e82e5bc70d5e4499808c1a0f4d59dc60",
        "IPY_MODEL_ebea335415ce48de804742b4d6866a8a"
       ],
       "layout": "IPY_MODEL_fde77a99d3f24364a4c465f5e86af295"
      }
     },
     "3b59cf1cf54c4499b6c02949a5b601d3": {
      "model_module": "@jupyter-widgets/controls",
      "model_module_version": "1.5.0",
      "model_name": "HTMLModel",
      "state": {
       "layout": "IPY_MODEL_f6bd2edf35ee4857b52a1f492fdd1435",
       "style": "IPY_MODEL_bb6afafe0dc94b98912aa31dade30bb8",
       "value": " 100/100 [00:01&lt;00:00, 99.80it/s]"
      }
     },
     "3ce9a3a9974e432c9bdca5c91bc2b0ec": {
      "model_module": "@jupyter-widgets/controls",
      "model_module_version": "1.5.0",
      "model_name": "ProgressStyleModel",
      "state": {
       "description_width": "initial"
      }
     },
     "3f67c7f5043c434694ed06464c13c346": {
      "model_module": "@jupyter-widgets/controls",
      "model_module_version": "1.5.0",
      "model_name": "FloatProgressModel",
      "state": {
       "bar_style": "success",
       "description": "Calculating control matrix: 100%",
       "layout": "IPY_MODEL_010bf16f80ef4c06b108641afeb833b9",
       "style": "IPY_MODEL_ca00bb03fd8c40ae963ce20d9cbfcd28",
       "value": 100
      }
     },
     "4174380b1046471aa5aae8edbfcfb60b": {
      "model_module": "@jupyter-widgets/controls",
      "model_module_version": "1.5.0",
      "model_name": "HBoxModel",
      "state": {
       "children": [
        "IPY_MODEL_4b4098799c164f818351a2e316ea7f9b",
        "IPY_MODEL_998508aab87245e9b117527dc9eb6e5d"
       ],
       "layout": "IPY_MODEL_a757590ac14042149b0f0a3a653e0a23"
      }
     },
     "4183d6129a4a4bb3a2b0cde8dfa5638d": {
      "model_module": "@jupyter-widgets/controls",
      "model_module_version": "1.5.0",
      "model_name": "DescriptionStyleModel",
      "state": {
       "description_width": ""
      }
     },
     "4370129749044d4b9e81eaeb3d42a5ea": {
      "model_module": "@jupyter-widgets/controls",
      "model_module_version": "1.5.0",
      "model_name": "DescriptionStyleModel",
      "state": {
       "description_width": ""
      }
     },
     "45463df6f1474416af4a671d2209a7a2": {
      "model_module": "@jupyter-widgets/controls",
      "model_module_version": "1.5.0",
      "model_name": "FloatProgressModel",
      "state": {
       "bar_style": "success",
       "description": "Calculating control matrix: 100%",
       "layout": "IPY_MODEL_5350dca7816d47469901c73d83925038",
       "style": "IPY_MODEL_e62e9ab7acf8426fa5f34ff285bc51f8",
       "value": 100
      }
     },
     "4655a9b9c6104dbf85a486a272ccbe4d": {
      "model_module": "@jupyter-widgets/base",
      "model_module_version": "1.2.0",
      "model_name": "LayoutModel",
      "state": {}
     },
     "4679be66381144d68fe5624776921739": {
      "model_module": "@jupyter-widgets/controls",
      "model_module_version": "1.5.0",
      "model_name": "DescriptionStyleModel",
      "state": {
       "description_width": ""
      }
     },
     "46f598d6cf2a408bbdac7be80055d6ed": {
      "model_module": "@jupyter-widgets/base",
      "model_module_version": "1.2.0",
      "model_name": "LayoutModel",
      "state": {}
     },
     "4b4098799c164f818351a2e316ea7f9b": {
      "model_module": "@jupyter-widgets/controls",
      "model_module_version": "1.5.0",
      "model_name": "FloatProgressModel",
      "state": {
       "bar_style": "success",
       "description": "Calculating control matrix: 100%",
       "layout": "IPY_MODEL_d50164f16b244052af6a16528da700ec",
       "style": "IPY_MODEL_8b9bb33ae0a04f609f7ee6b12afc45e5",
       "value": 100
      }
     },
     "4bdc9956a40a432392e727f37c5755fc": {
      "model_module": "@jupyter-widgets/base",
      "model_module_version": "1.2.0",
      "model_name": "LayoutModel",
      "state": {}
     },
     "510d16c8e74b4df2af53ed316e4156df": {
      "model_module": "@jupyter-widgets/base",
      "model_module_version": "1.2.0",
      "model_name": "LayoutModel",
      "state": {}
     },
     "51668696af73439180375526aaa5f650": {
      "model_module": "@jupyter-widgets/base",
      "model_module_version": "1.2.0",
      "model_name": "LayoutModel",
      "state": {}
     },
     "52f1e4ce231c4d059fdf9448dce699ed": {
      "model_module": "@jupyter-widgets/controls",
      "model_module_version": "1.5.0",
      "model_name": "ProgressStyleModel",
      "state": {
       "description_width": "initial"
      }
     },
     "5350dca7816d47469901c73d83925038": {
      "model_module": "@jupyter-widgets/base",
      "model_module_version": "1.2.0",
      "model_name": "LayoutModel",
      "state": {}
     },
     "53b534c64fd14a39a46ed8342c6693d4": {
      "model_module": "@jupyter-widgets/controls",
      "model_module_version": "1.5.0",
      "model_name": "HTMLModel",
      "state": {
       "layout": "IPY_MODEL_1bd42690bd5f4e3096231fc11e00986e",
       "style": "IPY_MODEL_4370129749044d4b9e81eaeb3d42a5ea",
       "value": " 250/250 [00:01&lt;00:00, 169.96it/s]"
      }
     },
     "552100d92fac48f19fcb5bc1c7cf9f19": {
      "model_module": "@jupyter-widgets/controls",
      "model_module_version": "1.5.0",
      "model_name": "HBoxModel",
      "state": {
       "children": [
        "IPY_MODEL_45463df6f1474416af4a671d2209a7a2",
        "IPY_MODEL_3b59cf1cf54c4499b6c02949a5b601d3"
       ],
       "layout": "IPY_MODEL_88f59df3764e43ef86d4e504f38ef94d"
      }
     },
     "5929ff5c99f5460bb21a9b0117c5df08": {
      "model_module": "@jupyter-widgets/controls",
      "model_module_version": "1.5.0",
      "model_name": "DescriptionStyleModel",
      "state": {
       "description_width": ""
      }
     },
     "5c54bcb04b0341a889282c13045ded5a": {
      "model_module": "@jupyter-widgets/controls",
      "model_module_version": "1.5.0",
      "model_name": "HBoxModel",
      "state": {
       "children": [
        "IPY_MODEL_df7078964f6b4c1884d291f905e9203d",
        "IPY_MODEL_ae28d543bc27413a955728540e1dfe57"
       ],
       "layout": "IPY_MODEL_24e9dc04c421420bb6086b659ff4bab6"
      }
     },
     "5db43feb22444799a5bec017b949fa67": {
      "model_module": "@jupyter-widgets/controls",
      "model_module_version": "1.5.0",
      "model_name": "HBoxModel",
      "state": {
       "children": [
        "IPY_MODEL_3f67c7f5043c434694ed06464c13c346",
        "IPY_MODEL_bf4a3cf7848743d495263ed148aea7d0"
       ],
       "layout": "IPY_MODEL_5dcd317c60484dd1b6438a9ebad4ecb4"
      }
     },
     "5dcd317c60484dd1b6438a9ebad4ecb4": {
      "model_module": "@jupyter-widgets/base",
      "model_module_version": "1.2.0",
      "model_name": "LayoutModel",
      "state": {}
     },
     "6132a7c8cbe74a1396a5dc8984b0ad91": {
      "model_module": "@jupyter-widgets/controls",
      "model_module_version": "1.5.0",
      "model_name": "FloatProgressModel",
      "state": {
       "bar_style": "success",
       "description": "Calculating control matrix: 100%",
       "layout": "IPY_MODEL_92482891be7547ac9176c72d94352566",
       "style": "IPY_MODEL_29e2773ab7264effacaf653e45573088",
       "value": 100
      }
     },
     "6a67f2daf9c04955a4af2a5906b0cfc2": {
      "model_module": "@jupyter-widgets/controls",
      "model_module_version": "1.5.0",
      "model_name": "ProgressStyleModel",
      "state": {
       "description_width": "initial"
      }
     },
     "6d78511c6549428ca1a53a47357154b4": {
      "model_module": "@jupyter-widgets/controls",
      "model_module_version": "1.5.0",
      "model_name": "HBoxModel",
      "state": {
       "children": [
        "IPY_MODEL_270df0005a05473097bc9ef302547bd7",
        "IPY_MODEL_eb2ca4e4eabc49e5bec6d877ff0f6aa1"
       ],
       "layout": "IPY_MODEL_d7a767083a254490afd09ce8a1a0a3cd"
      }
     },
     "6e1cd4ed8fe34274a76402953a7d521a": {
      "model_module": "@jupyter-widgets/controls",
      "model_module_version": "1.5.0",
      "model_name": "HTMLModel",
      "state": {
       "layout": "IPY_MODEL_f30217ab592d4591bcb48814f5386e42",
       "style": "IPY_MODEL_4679be66381144d68fe5624776921739",
       "value": " 100/100 [00:01&lt;00:00, 54.33it/s]"
      }
     },
     "700c2b3f5e7b48c1a3588e087ecf3e5e": {
      "model_module": "@jupyter-widgets/base",
      "model_module_version": "1.2.0",
      "model_name": "LayoutModel",
      "state": {}
     },
     "718cc9c1f9dc4974879ac5e0303925e0": {
      "model_module": "@jupyter-widgets/base",
      "model_module_version": "1.2.0",
      "model_name": "LayoutModel",
      "state": {}
     },
     "75642b77c7344521afa46e7b998f261e": {
      "model_module": "@jupyter-widgets/controls",
      "model_module_version": "1.5.0",
      "model_name": "ProgressStyleModel",
      "state": {
       "description_width": "initial"
      }
     },
     "78fe6f0ea2c04e2ebe74f9e4faf2dcfb": {
      "model_module": "@jupyter-widgets/base",
      "model_module_version": "1.2.0",
      "model_name": "LayoutModel",
      "state": {}
     },
     "7a23ebf7388748989db54165609f862d": {
      "model_module": "@jupyter-widgets/controls",
      "model_module_version": "1.5.0",
      "model_name": "DescriptionStyleModel",
      "state": {
       "description_width": ""
      }
     },
     "7c4d49960fd94b27a2af44cad1f60be0": {
      "model_module": "@jupyter-widgets/controls",
      "model_module_version": "1.5.0",
      "model_name": "FloatProgressModel",
      "state": {
       "bar_style": "success",
       "description": "Calculating control matrix: 100%",
       "layout": "IPY_MODEL_b0d29cbf316d43628bf732898910984c",
       "style": "IPY_MODEL_0ee64a2c9cad44d7866a2e7527126447",
       "value": 100
      }
     },
     "835fc073583440a394db086b060c16ec": {
      "model_module": "@jupyter-widgets/base",
      "model_module_version": "1.2.0",
      "model_name": "LayoutModel",
      "state": {}
     },
     "83c5b281bb654f1ab7d5bd67fff5090a": {
      "model_module": "@jupyter-widgets/controls",
      "model_module_version": "1.5.0",
      "model_name": "HBoxModel",
      "state": {
       "children": [
        "IPY_MODEL_f28750a85d234550bff63e67a36fa429",
        "IPY_MODEL_6e1cd4ed8fe34274a76402953a7d521a"
       ],
       "layout": "IPY_MODEL_510d16c8e74b4df2af53ed316e4156df"
      }
     },
     "8531c2da7d964193bd4bd35a3d76c63d": {
      "model_module": "@jupyter-widgets/controls",
      "model_module_version": "1.5.0",
      "model_name": "HTMLModel",
      "state": {
       "layout": "IPY_MODEL_700c2b3f5e7b48c1a3588e087ecf3e5e",
       "style": "IPY_MODEL_b720d9098a8c48e7bdaa22c67e0fdf89",
       "value": " 100/100 [00:00&lt;00:00, 127.44it/s]"
      }
     },
     "86a983452c9e4113bed5b6e1da4a02b6": {
      "model_module": "@jupyter-widgets/controls",
      "model_module_version": "1.5.0",
      "model_name": "HTMLModel",
      "state": {
       "layout": "IPY_MODEL_3b4743e725d64383b1646f3f5f215142",
       "style": "IPY_MODEL_dadcefbf44ea489ca1add54a608c8c02",
       "value": " 100/100 [00:01&lt;00:00, 82.57it/s]"
      }
     },
     "88f59df3764e43ef86d4e504f38ef94d": {
      "model_module": "@jupyter-widgets/base",
      "model_module_version": "1.2.0",
      "model_name": "LayoutModel",
      "state": {}
     },
     "89033b0b5ee7470db5b45c5accd98310": {
      "model_module": "@jupyter-widgets/controls",
      "model_module_version": "1.5.0",
      "model_name": "HTMLModel",
      "state": {
       "layout": "IPY_MODEL_ce48e353b00c46be9c08d6c82a448b36",
       "style": "IPY_MODEL_28b0d64850264b7895df2715036bd896",
       "value": " 250/250 [00:04&lt;00:00, 55.17it/s]"
      }
     },
     "8b9bb33ae0a04f609f7ee6b12afc45e5": {
      "model_module": "@jupyter-widgets/controls",
      "model_module_version": "1.5.0",
      "model_name": "ProgressStyleModel",
      "state": {
       "description_width": "initial"
      }
     },
     "8bc1ef0f68c4406cb4351dfe1d13374d": {
      "model_module": "@jupyter-widgets/controls",
      "model_module_version": "1.5.0",
      "model_name": "HBoxModel",
      "state": {
       "children": [
        "IPY_MODEL_6132a7c8cbe74a1396a5dc8984b0ad91",
        "IPY_MODEL_f820ad6b70cb48648defcc94f745a951"
       ],
       "layout": "IPY_MODEL_835fc073583440a394db086b060c16ec"
      }
     },
     "905439bcfc054c319721d1384269c7cd": {
      "model_module": "@jupyter-widgets/base",
      "model_module_version": "1.2.0",
      "model_name": "LayoutModel",
      "state": {}
     },
     "917c81ca2a5d4e06881aae07fed57789": {
      "model_module": "@jupyter-widgets/controls",
      "model_module_version": "1.5.0",
      "model_name": "HTMLModel",
      "state": {
       "layout": "IPY_MODEL_e195764e1619408099f071bbc124560b",
       "style": "IPY_MODEL_5929ff5c99f5460bb21a9b0117c5df08",
       "value": " 100/100 [00:01&lt;00:00, 84.23it/s]"
      }
     },
     "9186df8a4413462e9b947221f861d7e6": {
      "model_module": "@jupyter-widgets/controls",
      "model_module_version": "1.5.0",
      "model_name": "FloatProgressModel",
      "state": {
       "bar_style": "success",
       "description": "Calculating control matrix: 100%",
       "layout": "IPY_MODEL_b66f081ae54d434c82797a15252a967f",
       "max": 250,
       "style": "IPY_MODEL_141d02f5d71646d0bc9ab3c79ed9f238",
       "value": 250
      }
     },
     "92482891be7547ac9176c72d94352566": {
      "model_module": "@jupyter-widgets/base",
      "model_module_version": "1.2.0",
      "model_name": "LayoutModel",
      "state": {}
     },
     "939a2acfefd24a8997295a0cf254e026": {
      "model_module": "@jupyter-widgets/controls",
      "model_module_version": "1.5.0",
      "model_name": "HBoxModel",
      "state": {
       "children": [
        "IPY_MODEL_c83a1d96501843659d6874bc840485f5",
        "IPY_MODEL_08844ad1604c4046b9b1117e446d4e6e"
       ],
       "layout": "IPY_MODEL_c4ea92aa16cf42e0b58b78f8abcfb201"
      }
     },
     "93cafc412f26433c81c6d636545322b0": {
      "model_module": "@jupyter-widgets/controls",
      "model_module_version": "1.5.0",
      "model_name": "DescriptionStyleModel",
      "state": {
       "description_width": ""
      }
     },
     "998508aab87245e9b117527dc9eb6e5d": {
      "model_module": "@jupyter-widgets/controls",
      "model_module_version": "1.5.0",
      "model_name": "HTMLModel",
      "state": {
       "layout": "IPY_MODEL_4655a9b9c6104dbf85a486a272ccbe4d",
       "style": "IPY_MODEL_7a23ebf7388748989db54165609f862d",
       "value": " 100/100 [00:00&lt;00:00, 178.37it/s]"
      }
     },
     "9e0b0cf1e755466c8c6f3e42208f31c6": {
      "model_module": "@jupyter-widgets/base",
      "model_module_version": "1.2.0",
      "model_name": "LayoutModel",
      "state": {}
     },
     "9e1853105e0a4c6098fd0b674f0ef155": {
      "model_module": "@jupyter-widgets/controls",
      "model_module_version": "1.5.0",
      "model_name": "ProgressStyleModel",
      "state": {
       "description_width": "initial"
      }
     },
     "a02215daecd74ee58f17b329fb4b8c53": {
      "model_module": "@jupyter-widgets/controls",
      "model_module_version": "1.5.0",
      "model_name": "DescriptionStyleModel",
      "state": {
       "description_width": ""
      }
     },
     "a72221ea80d64015a17dac444877ede0": {
      "model_module": "@jupyter-widgets/base",
      "model_module_version": "1.2.0",
      "model_name": "LayoutModel",
      "state": {}
     },
     "a7307e2a0fe94b2ebca6465ee403765c": {
      "model_module": "@jupyter-widgets/base",
      "model_module_version": "1.2.0",
      "model_name": "LayoutModel",
      "state": {}
     },
     "a757590ac14042149b0f0a3a653e0a23": {
      "model_module": "@jupyter-widgets/base",
      "model_module_version": "1.2.0",
      "model_name": "LayoutModel",
      "state": {}
     },
     "a8c86c35cf554615b463bc5c239fa7e8": {
      "model_module": "@jupyter-widgets/controls",
      "model_module_version": "1.5.0",
      "model_name": "HBoxModel",
      "state": {
       "children": [
        "IPY_MODEL_9186df8a4413462e9b947221f861d7e6",
        "IPY_MODEL_53b534c64fd14a39a46ed8342c6693d4"
       ],
       "layout": "IPY_MODEL_cf12eef862c74166b783bc7d4dd014ab"
      }
     },
     "ac51a214d70543889492a82cd8b9237d": {
      "model_module": "@jupyter-widgets/base",
      "model_module_version": "1.2.0",
      "model_name": "LayoutModel",
      "state": {}
     },
     "adc353eaca4946f3b7157a1b6857d311": {
      "model_module": "@jupyter-widgets/controls",
      "model_module_version": "1.5.0",
      "model_name": "DescriptionStyleModel",
      "state": {
       "description_width": ""
      }
     },
     "ae28d543bc27413a955728540e1dfe57": {
      "model_module": "@jupyter-widgets/controls",
      "model_module_version": "1.5.0",
      "model_name": "HTMLModel",
      "state": {
       "layout": "IPY_MODEL_905439bcfc054c319721d1384269c7cd",
       "style": "IPY_MODEL_adc353eaca4946f3b7157a1b6857d311",
       "value": " 250/250 [00:02&lt;00:00, 97.10it/s]"
      }
     },
     "b0d29cbf316d43628bf732898910984c": {
      "model_module": "@jupyter-widgets/base",
      "model_module_version": "1.2.0",
      "model_name": "LayoutModel",
      "state": {}
     },
     "b5f452d581f746dab713d94de2f14cd3": {
      "model_module": "@jupyter-widgets/controls",
      "model_module_version": "1.5.0",
      "model_name": "HBoxModel",
      "state": {
       "children": [
        "IPY_MODEL_d07b37848dca4eb5b2e92a9aab87f02c",
        "IPY_MODEL_86a983452c9e4113bed5b6e1da4a02b6"
       ],
       "layout": "IPY_MODEL_caff07cb089a460facd2d7d09bae8e7b"
      }
     },
     "b66f081ae54d434c82797a15252a967f": {
      "model_module": "@jupyter-widgets/base",
      "model_module_version": "1.2.0",
      "model_name": "LayoutModel",
      "state": {}
     },
     "b720d9098a8c48e7bdaa22c67e0fdf89": {
      "model_module": "@jupyter-widgets/controls",
      "model_module_version": "1.5.0",
      "model_name": "DescriptionStyleModel",
      "state": {
       "description_width": ""
      }
     },
     "b8690d6038bd43348b7b85dfb38213d8": {
      "model_module": "@jupyter-widgets/controls",
      "model_module_version": "1.5.0",
      "model_name": "DescriptionStyleModel",
      "state": {
       "description_width": ""
      }
     },
     "b8efcbe25a1a48e98aa776f57b5c0362": {
      "model_module": "@jupyter-widgets/base",
      "model_module_version": "1.2.0",
      "model_name": "LayoutModel",
      "state": {}
     },
     "ba856ee5323e43268700485c2eef63de": {
      "model_module": "@jupyter-widgets/controls",
      "model_module_version": "1.5.0",
      "model_name": "HBoxModel",
      "state": {
       "children": [
        "IPY_MODEL_c0e01d1124914dc484aee2f0ed3c1488",
        "IPY_MODEL_917c81ca2a5d4e06881aae07fed57789"
       ],
       "layout": "IPY_MODEL_a7307e2a0fe94b2ebca6465ee403765c"
      }
     },
     "bb6afafe0dc94b98912aa31dade30bb8": {
      "model_module": "@jupyter-widgets/controls",
      "model_module_version": "1.5.0",
      "model_name": "DescriptionStyleModel",
      "state": {
       "description_width": ""
      }
     },
     "bf4a3cf7848743d495263ed148aea7d0": {
      "model_module": "@jupyter-widgets/controls",
      "model_module_version": "1.5.0",
      "model_name": "HTMLModel",
      "state": {
       "layout": "IPY_MODEL_51668696af73439180375526aaa5f650",
       "style": "IPY_MODEL_0a57c2cef4454d2b83ba1534c9d0eaf3",
       "value": " 100/100 [00:00&lt;00:00, 107.13it/s]"
      }
     },
     "c0e01d1124914dc484aee2f0ed3c1488": {
      "model_module": "@jupyter-widgets/controls",
      "model_module_version": "1.5.0",
      "model_name": "FloatProgressModel",
      "state": {
       "bar_style": "success",
       "description": "Calculating control matrix: 100%",
       "layout": "IPY_MODEL_16ec94eb78a04ddf82d79163a7b8ff30",
       "style": "IPY_MODEL_3ce9a3a9974e432c9bdca5c91bc2b0ec",
       "value": 100
      }
     },
     "c404509b99854e19b01077cc6eb55c78": {
      "model_module": "@jupyter-widgets/base",
      "model_module_version": "1.2.0",
      "model_name": "LayoutModel",
      "state": {}
     },
     "c4ea92aa16cf42e0b58b78f8abcfb201": {
      "model_module": "@jupyter-widgets/base",
      "model_module_version": "1.2.0",
      "model_name": "LayoutModel",
      "state": {}
     },
     "c7548c2dca9b423eb78ec894beea527d": {
      "model_module": "@jupyter-widgets/controls",
      "model_module_version": "1.5.0",
      "model_name": "HTMLModel",
      "state": {
       "layout": "IPY_MODEL_9e0b0cf1e755466c8c6f3e42208f31c6",
       "style": "IPY_MODEL_4183d6129a4a4bb3a2b0cde8dfa5638d",
       "value": " 250/250 [00:02&lt;00:00, 101.53it/s]"
      }
     },
     "c83a1d96501843659d6874bc840485f5": {
      "model_module": "@jupyter-widgets/controls",
      "model_module_version": "1.5.0",
      "model_name": "FloatProgressModel",
      "state": {
       "bar_style": "success",
       "description": "Calculating control matrix: 100%",
       "layout": "IPY_MODEL_46f598d6cf2a408bbdac7be80055d6ed",
       "style": "IPY_MODEL_24c0e764a39542c9bfaf03f730b37c7d",
       "value": 100
      }
     },
     "c85c161438224a0ba0a2adddc0f57b79": {
      "model_module": "@jupyter-widgets/base",
      "model_module_version": "1.2.0",
      "model_name": "LayoutModel",
      "state": {}
     },
     "c9f31fde670e443ea67a1208be9b9680": {
      "model_module": "@jupyter-widgets/controls",
      "model_module_version": "1.5.0",
      "model_name": "DescriptionStyleModel",
      "state": {
       "description_width": ""
      }
     },
     "ca00bb03fd8c40ae963ce20d9cbfcd28": {
      "model_module": "@jupyter-widgets/controls",
      "model_module_version": "1.5.0",
      "model_name": "ProgressStyleModel",
      "state": {
       "description_width": "initial"
      }
     },
     "caff07cb089a460facd2d7d09bae8e7b": {
      "model_module": "@jupyter-widgets/base",
      "model_module_version": "1.2.0",
      "model_name": "LayoutModel",
      "state": {}
     },
     "cdd02f6ff3694c9a81b8d9769a48a4cd": {
      "model_module": "@jupyter-widgets/base",
      "model_module_version": "1.2.0",
      "model_name": "LayoutModel",
      "state": {}
     },
     "ce48e353b00c46be9c08d6c82a448b36": {
      "model_module": "@jupyter-widgets/base",
      "model_module_version": "1.2.0",
      "model_name": "LayoutModel",
      "state": {}
     },
     "cf12eef862c74166b783bc7d4dd014ab": {
      "model_module": "@jupyter-widgets/base",
      "model_module_version": "1.2.0",
      "model_name": "LayoutModel",
      "state": {}
     },
     "d07b37848dca4eb5b2e92a9aab87f02c": {
      "model_module": "@jupyter-widgets/controls",
      "model_module_version": "1.5.0",
      "model_name": "FloatProgressModel",
      "state": {
       "bar_style": "success",
       "description": "Calculating control matrix: 100%",
       "layout": "IPY_MODEL_a72221ea80d64015a17dac444877ede0",
       "style": "IPY_MODEL_75642b77c7344521afa46e7b998f261e",
       "value": 100
      }
     },
     "d41073d6eeaf44da9d61c9fbbc1e1c7e": {
      "model_module": "@jupyter-widgets/controls",
      "model_module_version": "1.5.0",
      "model_name": "ProgressStyleModel",
      "state": {
       "description_width": "initial"
      }
     },
     "d50164f16b244052af6a16528da700ec": {
      "model_module": "@jupyter-widgets/base",
      "model_module_version": "1.2.0",
      "model_name": "LayoutModel",
      "state": {}
     },
     "d6462493a1a049a3a78635d83ad87fe7": {
      "model_module": "@jupyter-widgets/base",
      "model_module_version": "1.2.0",
      "model_name": "LayoutModel",
      "state": {}
     },
     "d7a767083a254490afd09ce8a1a0a3cd": {
      "model_module": "@jupyter-widgets/base",
      "model_module_version": "1.2.0",
      "model_name": "LayoutModel",
      "state": {}
     },
     "dadcefbf44ea489ca1add54a608c8c02": {
      "model_module": "@jupyter-widgets/controls",
      "model_module_version": "1.5.0",
      "model_name": "DescriptionStyleModel",
      "state": {
       "description_width": ""
      }
     },
     "daf5f758aa5c45129dbaa8f94551bbb4": {
      "model_module": "@jupyter-widgets/controls",
      "model_module_version": "1.5.0",
      "model_name": "ProgressStyleModel",
      "state": {
       "description_width": "initial"
      }
     },
     "dec28044fe5241f3a0a87373619528bd": {
      "model_module": "@jupyter-widgets/controls",
      "model_module_version": "1.5.0",
      "model_name": "FloatProgressModel",
      "state": {
       "bar_style": "success",
       "description": "Calculating control matrix: 100%",
       "layout": "IPY_MODEL_d6462493a1a049a3a78635d83ad87fe7",
       "max": 250,
       "style": "IPY_MODEL_d41073d6eeaf44da9d61c9fbbc1e1c7e",
       "value": 250
      }
     },
     "df7078964f6b4c1884d291f905e9203d": {
      "model_module": "@jupyter-widgets/controls",
      "model_module_version": "1.5.0",
      "model_name": "FloatProgressModel",
      "state": {
       "bar_style": "success",
       "description": "Calculating control matrix: 100%",
       "layout": "IPY_MODEL_2a443ad8200d4632a8522b9d26cd4942",
       "max": 250,
       "style": "IPY_MODEL_9e1853105e0a4c6098fd0b674f0ef155",
       "value": 250
      }
     },
     "e195764e1619408099f071bbc124560b": {
      "model_module": "@jupyter-widgets/base",
      "model_module_version": "1.2.0",
      "model_name": "LayoutModel",
      "state": {}
     },
     "e62e9ab7acf8426fa5f34ff285bc51f8": {
      "model_module": "@jupyter-widgets/controls",
      "model_module_version": "1.5.0",
      "model_name": "ProgressStyleModel",
      "state": {
       "description_width": "initial"
      }
     },
     "e6725e1448a84ef3937c7139da7fc192": {
      "model_module": "@jupyter-widgets/controls",
      "model_module_version": "1.5.0",
      "model_name": "HBoxModel",
      "state": {
       "children": [
        "IPY_MODEL_7c4d49960fd94b27a2af44cad1f60be0",
        "IPY_MODEL_077dbd79885945fba8d4c40032f33716"
       ],
       "layout": "IPY_MODEL_ac51a214d70543889492a82cd8b9237d"
      }
     },
     "e82e5bc70d5e4499808c1a0f4d59dc60": {
      "model_module": "@jupyter-widgets/controls",
      "model_module_version": "1.5.0",
      "model_name": "FloatProgressModel",
      "state": {
       "bar_style": "success",
       "description": "Calculating control matrix: 100%",
       "layout": "IPY_MODEL_287bf97dbd7545cc82f6789218ac7923",
       "style": "IPY_MODEL_14f8b3e3a00d4cc88fbb9f4efade992d",
       "value": 100
      }
     },
     "eb2ca4e4eabc49e5bec6d877ff0f6aa1": {
      "model_module": "@jupyter-widgets/controls",
      "model_module_version": "1.5.0",
      "model_name": "HTMLModel",
      "state": {
       "layout": "IPY_MODEL_147a75f63b9f41998ec3e61a67b19f58",
       "style": "IPY_MODEL_a02215daecd74ee58f17b329fb4b8c53",
       "value": " 250/250 [00:01&lt;00:00, 203.52it/s]"
      }
     },
     "ebea335415ce48de804742b4d6866a8a": {
      "model_module": "@jupyter-widgets/controls",
      "model_module_version": "1.5.0",
      "model_name": "HTMLModel",
      "state": {
       "layout": "IPY_MODEL_214540b4e5eb4febaaac44c3f5f08434",
       "style": "IPY_MODEL_93cafc412f26433c81c6d636545322b0",
       "value": " 100/100 [00:01&lt;00:00, 51.30it/s]"
      }
     },
     "f197633c0b654313aece53cd359262b5": {
      "model_module": "@jupyter-widgets/base",
      "model_module_version": "1.2.0",
      "model_name": "LayoutModel",
      "state": {}
     },
     "f28750a85d234550bff63e67a36fa429": {
      "model_module": "@jupyter-widgets/controls",
      "model_module_version": "1.5.0",
      "model_name": "FloatProgressModel",
      "state": {
       "bar_style": "success",
       "description": "Calculating control matrix: 100%",
       "layout": "IPY_MODEL_f80be9f14a484d2abbb35533988430bd",
       "style": "IPY_MODEL_52f1e4ce231c4d059fdf9448dce699ed",
       "value": 100
      }
     },
     "f30217ab592d4591bcb48814f5386e42": {
      "model_module": "@jupyter-widgets/base",
      "model_module_version": "1.2.0",
      "model_name": "LayoutModel",
      "state": {}
     },
     "f43aaee98b3543039922495cd53d0c33": {
      "model_module": "@jupyter-widgets/controls",
      "model_module_version": "1.5.0",
      "model_name": "FloatProgressModel",
      "state": {
       "bar_style": "success",
       "description": "Calculating control matrix: 100%",
       "layout": "IPY_MODEL_b8efcbe25a1a48e98aa776f57b5c0362",
       "style": "IPY_MODEL_f7d03d9541b34d8281defe2a35176bbc",
       "value": 100
      }
     },
     "f6bd2edf35ee4857b52a1f492fdd1435": {
      "model_module": "@jupyter-widgets/base",
      "model_module_version": "1.2.0",
      "model_name": "LayoutModel",
      "state": {}
     },
     "f7d03d9541b34d8281defe2a35176bbc": {
      "model_module": "@jupyter-widgets/controls",
      "model_module_version": "1.5.0",
      "model_name": "ProgressStyleModel",
      "state": {
       "description_width": "initial"
      }
     },
     "f80be9f14a484d2abbb35533988430bd": {
      "model_module": "@jupyter-widgets/base",
      "model_module_version": "1.2.0",
      "model_name": "LayoutModel",
      "state": {}
     },
     "f820ad6b70cb48648defcc94f745a951": {
      "model_module": "@jupyter-widgets/controls",
      "model_module_version": "1.5.0",
      "model_name": "HTMLModel",
      "state": {
       "layout": "IPY_MODEL_78fe6f0ea2c04e2ebe74f9e4faf2dcfb",
       "style": "IPY_MODEL_0dc28bbab3114ad78a4593090933e8cd",
       "value": " 100/100 [00:00&lt;00:00, 155.00it/s]"
      }
     },
     "fde77a99d3f24364a4c465f5e86af295": {
      "model_module": "@jupyter-widgets/base",
      "model_module_version": "1.2.0",
      "model_name": "LayoutModel",
      "state": {}
     }
    },
    "version_major": 2,
    "version_minor": 0
   }
  }
 },
 "nbformat": 4,
 "nbformat_minor": 2
}
